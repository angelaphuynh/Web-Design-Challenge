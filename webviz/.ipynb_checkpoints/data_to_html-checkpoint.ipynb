{
 "cells": [
  {
   "cell_type": "markdown",
   "metadata": {},
   "source": [
    "### Note\n",
    "* Instructions have been included for each segment. You do not have to follow them exactly, but they are included to help you think through the steps."
   ]
  },
  {
   "cell_type": "code",
   "execution_count": 1,
   "metadata": {},
   "outputs": [
    {
     "data": {
      "text/html": [
       "<div>\n",
       "<style scoped>\n",
       "    .dataframe tbody tr th:only-of-type {\n",
       "        vertical-align: middle;\n",
       "    }\n",
       "\n",
       "    .dataframe tbody tr th {\n",
       "        vertical-align: top;\n",
       "    }\n",
       "\n",
       "    .dataframe thead th {\n",
       "        text-align: right;\n",
       "    }\n",
       "</style>\n",
       "<table border=\"1\" class=\"dataframe\">\n",
       "  <thead>\n",
       "    <tr style=\"text-align: right;\">\n",
       "      <th></th>\n",
       "      <th>City_ID</th>\n",
       "      <th>City</th>\n",
       "      <th>Cloudiness</th>\n",
       "      <th>Country</th>\n",
       "      <th>Date</th>\n",
       "      <th>Humidity</th>\n",
       "      <th>Lat</th>\n",
       "      <th>Lng</th>\n",
       "      <th>Max Temp</th>\n",
       "      <th>Wind Speed</th>\n",
       "    </tr>\n",
       "  </thead>\n",
       "  <tbody>\n",
       "    <tr>\n",
       "      <th>0</th>\n",
       "      <td>0</td>\n",
       "      <td>jacareacanga</td>\n",
       "      <td>0</td>\n",
       "      <td>BR</td>\n",
       "      <td>1528902000</td>\n",
       "      <td>62</td>\n",
       "      <td>-6.22</td>\n",
       "      <td>-57.76</td>\n",
       "      <td>89.60</td>\n",
       "      <td>6.93</td>\n",
       "    </tr>\n",
       "    <tr>\n",
       "      <th>1</th>\n",
       "      <td>1</td>\n",
       "      <td>kaitangata</td>\n",
       "      <td>100</td>\n",
       "      <td>NZ</td>\n",
       "      <td>1528905304</td>\n",
       "      <td>94</td>\n",
       "      <td>-46.28</td>\n",
       "      <td>169.85</td>\n",
       "      <td>42.61</td>\n",
       "      <td>5.64</td>\n",
       "    </tr>\n",
       "    <tr>\n",
       "      <th>2</th>\n",
       "      <td>2</td>\n",
       "      <td>goulburn</td>\n",
       "      <td>20</td>\n",
       "      <td>AU</td>\n",
       "      <td>1528905078</td>\n",
       "      <td>91</td>\n",
       "      <td>-34.75</td>\n",
       "      <td>149.72</td>\n",
       "      <td>44.32</td>\n",
       "      <td>10.11</td>\n",
       "    </tr>\n",
       "    <tr>\n",
       "      <th>3</th>\n",
       "      <td>3</td>\n",
       "      <td>lata</td>\n",
       "      <td>76</td>\n",
       "      <td>IN</td>\n",
       "      <td>1528905305</td>\n",
       "      <td>89</td>\n",
       "      <td>30.78</td>\n",
       "      <td>78.62</td>\n",
       "      <td>59.89</td>\n",
       "      <td>0.94</td>\n",
       "    </tr>\n",
       "    <tr>\n",
       "      <th>4</th>\n",
       "      <td>4</td>\n",
       "      <td>chokurdakh</td>\n",
       "      <td>0</td>\n",
       "      <td>RU</td>\n",
       "      <td>1528905306</td>\n",
       "      <td>88</td>\n",
       "      <td>70.62</td>\n",
       "      <td>147.90</td>\n",
       "      <td>32.17</td>\n",
       "      <td>2.95</td>\n",
       "    </tr>\n",
       "  </tbody>\n",
       "</table>\n",
       "</div>"
      ],
      "text/plain": [
       "   City_ID          City  Cloudiness Country        Date  Humidity    Lat  \\\n",
       "0        0  jacareacanga           0      BR  1528902000        62  -6.22   \n",
       "1        1    kaitangata         100      NZ  1528905304        94 -46.28   \n",
       "2        2      goulburn          20      AU  1528905078        91 -34.75   \n",
       "3        3          lata          76      IN  1528905305        89  30.78   \n",
       "4        4    chokurdakh           0      RU  1528905306        88  70.62   \n",
       "\n",
       "      Lng  Max Temp  Wind Speed  \n",
       "0  -57.76     89.60        6.93  \n",
       "1  169.85     42.61        5.64  \n",
       "2  149.72     44.32       10.11  \n",
       "3   78.62     59.89        0.94  \n",
       "4  147.90     32.17        2.95  "
      ]
     },
     "execution_count": 1,
     "metadata": {},
     "output_type": "execute_result"
    }
   ],
   "source": [
    "import pandas as pd\n",
    "\n",
    "file_to_load = \"Resources/cities.csv\"\n",
    "\n",
    "raw_data = pd.read_csv(file_to_load)\n",
    "raw_data.head()"
   ]
  },
  {
   "cell_type": "markdown",
   "metadata": {},
   "source": [
    "## Purchasing Analysis (Age)"
   ]
  },
  {
   "cell_type": "markdown",
   "metadata": {},
   "source": [
    "* Bin the purchase_data data frame by age\n",
    "\n",
    "\n",
    "* Run basic calculations to obtain purchase count, avg. purchase price, avg. purchase total per person etc. in the table below\n",
    "\n",
    "\n",
    "* Create a summary data frame to hold the results\n",
    "\n",
    "\n",
    "* Optional: give the displayed data cleaner formatting\n",
    "\n",
    "\n",
    "* Display the summary data frame"
   ]
  },
  {
   "cell_type": "code",
   "execution_count": 32,
   "metadata": {},
   "outputs": [
    {
     "data": {
      "text/html": [
       "<style  type=\"text/css\" >\n",
       "</style><table id=\"T_9f7086a0_71f7_11ea_bbe0_acde48001122\" ><thead>    <tr>        <th class=\"blank level0\" ></th>        <th class=\"col_heading level0 col0\" >Purchase Count</th>        <th class=\"col_heading level0 col1\" >Average Purchasing Price</th>        <th class=\"col_heading level0 col2\" >Total Purchase Value</th>        <th class=\"col_heading level0 col3\" >Average Total Purchase / Person</th>    </tr>    <tr>        <th class=\"index_name level0\" >Age Demo</th>        <th class=\"blank\" ></th>        <th class=\"blank\" ></th>        <th class=\"blank\" ></th>        <th class=\"blank\" ></th>    </tr></thead><tbody>\n",
       "                <tr>\n",
       "                        <th id=\"T_9f7086a0_71f7_11ea_bbe0_acde48001122level0_row0\" class=\"row_heading level0 row0\" ><10</th>\n",
       "                        <td id=\"T_9f7086a0_71f7_11ea_bbe0_acde48001122row0_col0\" class=\"data row0 col0\" >23</td>\n",
       "                        <td id=\"T_9f7086a0_71f7_11ea_bbe0_acde48001122row0_col1\" class=\"data row0 col1\" >$3.35</td>\n",
       "                        <td id=\"T_9f7086a0_71f7_11ea_bbe0_acde48001122row0_col2\" class=\"data row0 col2\" >$77.13</td>\n",
       "                        <td id=\"T_9f7086a0_71f7_11ea_bbe0_acde48001122row0_col3\" class=\"data row0 col3\" >$4.54</td>\n",
       "            </tr>\n",
       "            <tr>\n",
       "                        <th id=\"T_9f7086a0_71f7_11ea_bbe0_acde48001122level0_row1\" class=\"row_heading level0 row1\" >10-14</th>\n",
       "                        <td id=\"T_9f7086a0_71f7_11ea_bbe0_acde48001122row1_col0\" class=\"data row1 col0\" >28</td>\n",
       "                        <td id=\"T_9f7086a0_71f7_11ea_bbe0_acde48001122row1_col1\" class=\"data row1 col1\" >$2.96</td>\n",
       "                        <td id=\"T_9f7086a0_71f7_11ea_bbe0_acde48001122row1_col2\" class=\"data row1 col2\" >$82.78</td>\n",
       "                        <td id=\"T_9f7086a0_71f7_11ea_bbe0_acde48001122row1_col3\" class=\"data row1 col3\" >$3.76</td>\n",
       "            </tr>\n",
       "            <tr>\n",
       "                        <th id=\"T_9f7086a0_71f7_11ea_bbe0_acde48001122level0_row2\" class=\"row_heading level0 row2\" >15-19</th>\n",
       "                        <td id=\"T_9f7086a0_71f7_11ea_bbe0_acde48001122row2_col0\" class=\"data row2 col0\" >136</td>\n",
       "                        <td id=\"T_9f7086a0_71f7_11ea_bbe0_acde48001122row2_col1\" class=\"data row2 col1\" >$3.04</td>\n",
       "                        <td id=\"T_9f7086a0_71f7_11ea_bbe0_acde48001122row2_col2\" class=\"data row2 col2\" >$412.89</td>\n",
       "                        <td id=\"T_9f7086a0_71f7_11ea_bbe0_acde48001122row2_col3\" class=\"data row2 col3\" >$3.86</td>\n",
       "            </tr>\n",
       "            <tr>\n",
       "                        <th id=\"T_9f7086a0_71f7_11ea_bbe0_acde48001122level0_row3\" class=\"row_heading level0 row3\" >20-24</th>\n",
       "                        <td id=\"T_9f7086a0_71f7_11ea_bbe0_acde48001122row3_col0\" class=\"data row3 col0\" >365</td>\n",
       "                        <td id=\"T_9f7086a0_71f7_11ea_bbe0_acde48001122row3_col1\" class=\"data row3 col1\" >$3.05</td>\n",
       "                        <td id=\"T_9f7086a0_71f7_11ea_bbe0_acde48001122row3_col2\" class=\"data row3 col2\" >$1,114.06</td>\n",
       "                        <td id=\"T_9f7086a0_71f7_11ea_bbe0_acde48001122row3_col3\" class=\"data row3 col3\" >$4.32</td>\n",
       "            </tr>\n",
       "            <tr>\n",
       "                        <th id=\"T_9f7086a0_71f7_11ea_bbe0_acde48001122level0_row4\" class=\"row_heading level0 row4\" >25-29</th>\n",
       "                        <td id=\"T_9f7086a0_71f7_11ea_bbe0_acde48001122row4_col0\" class=\"data row4 col0\" >101</td>\n",
       "                        <td id=\"T_9f7086a0_71f7_11ea_bbe0_acde48001122row4_col1\" class=\"data row4 col1\" >$2.90</td>\n",
       "                        <td id=\"T_9f7086a0_71f7_11ea_bbe0_acde48001122row4_col2\" class=\"data row4 col2\" >$293.00</td>\n",
       "                        <td id=\"T_9f7086a0_71f7_11ea_bbe0_acde48001122row4_col3\" class=\"data row4 col3\" >$3.81</td>\n",
       "            </tr>\n",
       "            <tr>\n",
       "                        <th id=\"T_9f7086a0_71f7_11ea_bbe0_acde48001122level0_row5\" class=\"row_heading level0 row5\" >30-34</th>\n",
       "                        <td id=\"T_9f7086a0_71f7_11ea_bbe0_acde48001122row5_col0\" class=\"data row5 col0\" >73</td>\n",
       "                        <td id=\"T_9f7086a0_71f7_11ea_bbe0_acde48001122row5_col1\" class=\"data row5 col1\" >$2.93</td>\n",
       "                        <td id=\"T_9f7086a0_71f7_11ea_bbe0_acde48001122row5_col2\" class=\"data row5 col2\" >$214.00</td>\n",
       "                        <td id=\"T_9f7086a0_71f7_11ea_bbe0_acde48001122row5_col3\" class=\"data row5 col3\" >$4.12</td>\n",
       "            </tr>\n",
       "            <tr>\n",
       "                        <th id=\"T_9f7086a0_71f7_11ea_bbe0_acde48001122level0_row6\" class=\"row_heading level0 row6\" >35-39</th>\n",
       "                        <td id=\"T_9f7086a0_71f7_11ea_bbe0_acde48001122row6_col0\" class=\"data row6 col0\" >41</td>\n",
       "                        <td id=\"T_9f7086a0_71f7_11ea_bbe0_acde48001122row6_col1\" class=\"data row6 col1\" >$3.60</td>\n",
       "                        <td id=\"T_9f7086a0_71f7_11ea_bbe0_acde48001122row6_col2\" class=\"data row6 col2\" >$147.67</td>\n",
       "                        <td id=\"T_9f7086a0_71f7_11ea_bbe0_acde48001122row6_col3\" class=\"data row6 col3\" >$4.76</td>\n",
       "            </tr>\n",
       "            <tr>\n",
       "                        <th id=\"T_9f7086a0_71f7_11ea_bbe0_acde48001122level0_row7\" class=\"row_heading level0 row7\" >40+</th>\n",
       "                        <td id=\"T_9f7086a0_71f7_11ea_bbe0_acde48001122row7_col0\" class=\"data row7 col0\" >13</td>\n",
       "                        <td id=\"T_9f7086a0_71f7_11ea_bbe0_acde48001122row7_col1\" class=\"data row7 col1\" >$2.94</td>\n",
       "                        <td id=\"T_9f7086a0_71f7_11ea_bbe0_acde48001122row7_col2\" class=\"data row7 col2\" >$38.24</td>\n",
       "                        <td id=\"T_9f7086a0_71f7_11ea_bbe0_acde48001122row7_col3\" class=\"data row7 col3\" >$3.19</td>\n",
       "            </tr>\n",
       "    </tbody></table>"
      ],
      "text/plain": [
       "<pandas.io.formats.style.Styler at 0x121b67350>"
      ]
     },
     "execution_count": 32,
     "metadata": {},
     "output_type": "execute_result"
    }
   ],
   "source": [
    "total_purchase_byage = age_group[\"Purchase ID\"].count()\n",
    "purchase_value_byage = age_group[\"Price\"].sum()\n",
    "\n",
    "purchasing_analysis_age = pd.DataFrame({\"Purchase Count\": total_purchase_byage,\n",
    "                            \"Average Purchasing Price\": (age_group[\"Price\"].mean()),\n",
    "                             \"Total Purchase Value\": purchase_value_byage,\n",
    "                             \"Average Total Purchase / Person\": (purchase_value_byage / total_age_ct)})\n",
    "\n",
    "purchasing_analysis_age.style.format({\"Average Purchasing Price\":\"${:,.2f}\", \"Total Purchase Value\":\"${:,.2f}\", \"Average Total Purchase / Person\":\"${:,.2f}\"})\n",
    "    "
   ]
  },
  {
   "cell_type": "markdown",
   "metadata": {},
   "source": [
    "## Top Spenders"
   ]
  },
  {
   "cell_type": "markdown",
   "metadata": {},
   "source": [
    "* Run basic calculations to obtain the results in the table below\n",
    "\n",
    "\n",
    "* Create a summary data frame to hold the results\n",
    "\n",
    "\n",
    "* Sort the total purchase value column in descending order\n",
    "\n",
    "\n",
    "* Optional: give the displayed data cleaner formatting\n",
    "\n",
    "\n",
    "* Display a preview of the summary data frame\n",
    "\n"
   ]
  },
  {
   "cell_type": "code",
   "execution_count": 33,
   "metadata": {},
   "outputs": [
    {
     "data": {
      "text/html": [
       "<style  type=\"text/css\" >\n",
       "</style><table id=\"T_a067ea62_71f7_11ea_bbe0_acde48001122\" ><thead>    <tr>        <th class=\"blank level0\" ></th>        <th class=\"col_heading level0 col0\" >Purchase Count</th>        <th class=\"col_heading level0 col1\" >Average Purchasing Price</th>        <th class=\"col_heading level0 col2\" >Total Purchase Value</th>    </tr>    <tr>        <th class=\"index_name level0\" >SN</th>        <th class=\"blank\" ></th>        <th class=\"blank\" ></th>        <th class=\"blank\" ></th>    </tr></thead><tbody>\n",
       "                <tr>\n",
       "                        <th id=\"T_a067ea62_71f7_11ea_bbe0_acde48001122level0_row0\" class=\"row_heading level0 row0\" >Lisosia93</th>\n",
       "                        <td id=\"T_a067ea62_71f7_11ea_bbe0_acde48001122row0_col0\" class=\"data row0 col0\" >5</td>\n",
       "                        <td id=\"T_a067ea62_71f7_11ea_bbe0_acde48001122row0_col1\" class=\"data row0 col1\" >$3.79</td>\n",
       "                        <td id=\"T_a067ea62_71f7_11ea_bbe0_acde48001122row0_col2\" class=\"data row0 col2\" >$18.96</td>\n",
       "            </tr>\n",
       "            <tr>\n",
       "                        <th id=\"T_a067ea62_71f7_11ea_bbe0_acde48001122level0_row1\" class=\"row_heading level0 row1\" >Idastidru52</th>\n",
       "                        <td id=\"T_a067ea62_71f7_11ea_bbe0_acde48001122row1_col0\" class=\"data row1 col0\" >4</td>\n",
       "                        <td id=\"T_a067ea62_71f7_11ea_bbe0_acde48001122row1_col1\" class=\"data row1 col1\" >$3.86</td>\n",
       "                        <td id=\"T_a067ea62_71f7_11ea_bbe0_acde48001122row1_col2\" class=\"data row1 col2\" >$15.45</td>\n",
       "            </tr>\n",
       "            <tr>\n",
       "                        <th id=\"T_a067ea62_71f7_11ea_bbe0_acde48001122level0_row2\" class=\"row_heading level0 row2\" >Chamjask73</th>\n",
       "                        <td id=\"T_a067ea62_71f7_11ea_bbe0_acde48001122row2_col0\" class=\"data row2 col0\" >3</td>\n",
       "                        <td id=\"T_a067ea62_71f7_11ea_bbe0_acde48001122row2_col1\" class=\"data row2 col1\" >$4.61</td>\n",
       "                        <td id=\"T_a067ea62_71f7_11ea_bbe0_acde48001122row2_col2\" class=\"data row2 col2\" >$13.83</td>\n",
       "            </tr>\n",
       "            <tr>\n",
       "                        <th id=\"T_a067ea62_71f7_11ea_bbe0_acde48001122level0_row3\" class=\"row_heading level0 row3\" >Iral74</th>\n",
       "                        <td id=\"T_a067ea62_71f7_11ea_bbe0_acde48001122row3_col0\" class=\"data row3 col0\" >4</td>\n",
       "                        <td id=\"T_a067ea62_71f7_11ea_bbe0_acde48001122row3_col1\" class=\"data row3 col1\" >$3.40</td>\n",
       "                        <td id=\"T_a067ea62_71f7_11ea_bbe0_acde48001122row3_col2\" class=\"data row3 col2\" >$13.62</td>\n",
       "            </tr>\n",
       "            <tr>\n",
       "                        <th id=\"T_a067ea62_71f7_11ea_bbe0_acde48001122level0_row4\" class=\"row_heading level0 row4\" >Iskadarya95</th>\n",
       "                        <td id=\"T_a067ea62_71f7_11ea_bbe0_acde48001122row4_col0\" class=\"data row4 col0\" >3</td>\n",
       "                        <td id=\"T_a067ea62_71f7_11ea_bbe0_acde48001122row4_col1\" class=\"data row4 col1\" >$4.37</td>\n",
       "                        <td id=\"T_a067ea62_71f7_11ea_bbe0_acde48001122row4_col2\" class=\"data row4 col2\" >$13.10</td>\n",
       "            </tr>\n",
       "    </tbody></table>"
      ],
      "text/plain": [
       "<pandas.io.formats.style.Styler at 0x121b5ae50>"
      ]
     },
     "execution_count": 33,
     "metadata": {},
     "output_type": "execute_result"
    }
   ],
   "source": [
    "top_spender_group = purchase_data.groupby(['SN'])\n",
    "                        \n",
    "top_spender_analysis = pd.DataFrame({\"Purchase Count\": (top_spender_group[\"Purchase ID\"].count()),\n",
    "                                \"Average Purchasing Price\": (top_spender_group[\"Price\"].mean()),\n",
    "                              \"Total Purchase Value\": (top_spender_group[\"Price\"].sum())})\n",
    "top_spender_analysis.sort_values([\"Total Purchase Value\"], ascending = False).head().style.format({\"Average Purchasing Price\":\"${:,.2f}\", \"Total Purchase Value\":\"${:,.2f}\"})"
   ]
  },
  {
   "cell_type": "markdown",
   "metadata": {},
   "source": [
    "## Most Popular Items"
   ]
  },
  {
   "cell_type": "markdown",
   "metadata": {},
   "source": [
    "* Retrieve the Item ID, Item Name, and Item Price columns\n",
    "\n",
    "\n",
    "* Group by Item ID and Item Name. Perform calculations to obtain purchase count, item price, and total purchase value\n",
    "\n",
    "\n",
    "* Create a summary data frame to hold the results\n",
    "\n",
    "\n",
    "* Sort the purchase count column in descending order\n",
    "\n",
    "\n",
    "* Optional: give the displayed data cleaner formatting\n",
    "\n",
    "\n",
    "* Display a preview of the summary data frame\n",
    "\n"
   ]
  },
  {
   "cell_type": "code",
   "execution_count": 34,
   "metadata": {},
   "outputs": [
    {
     "data": {
      "text/html": [
       "<style  type=\"text/css\" >\n",
       "</style><table id=\"T_a14cc308_71f7_11ea_bbe0_acde48001122\" ><thead>    <tr>        <th class=\"blank\" ></th>        <th class=\"blank level0\" ></th>        <th class=\"col_heading level0 col0\" >Purchase Count</th>        <th class=\"col_heading level0 col1\" >Item Price</th>        <th class=\"col_heading level0 col2\" >Total Purchase Value</th>    </tr>    <tr>        <th class=\"index_name level0\" >Item ID</th>        <th class=\"index_name level1\" >Item Name</th>        <th class=\"blank\" ></th>        <th class=\"blank\" ></th>        <th class=\"blank\" ></th>    </tr></thead><tbody>\n",
       "                <tr>\n",
       "                        <th id=\"T_a14cc308_71f7_11ea_bbe0_acde48001122level0_row0\" class=\"row_heading level0 row0\" >178</th>\n",
       "                        <th id=\"T_a14cc308_71f7_11ea_bbe0_acde48001122level1_row0\" class=\"row_heading level1 row0\" >Oathbreaker, Last Hope of the Breaking Storm</th>\n",
       "                        <td id=\"T_a14cc308_71f7_11ea_bbe0_acde48001122row0_col0\" class=\"data row0 col0\" >12</td>\n",
       "                        <td id=\"T_a14cc308_71f7_11ea_bbe0_acde48001122row0_col1\" class=\"data row0 col1\" >$4.23</td>\n",
       "                        <td id=\"T_a14cc308_71f7_11ea_bbe0_acde48001122row0_col2\" class=\"data row0 col2\" >$50.76</td>\n",
       "            </tr>\n",
       "            <tr>\n",
       "                        <th id=\"T_a14cc308_71f7_11ea_bbe0_acde48001122level0_row1\" class=\"row_heading level0 row1\" >145</th>\n",
       "                        <th id=\"T_a14cc308_71f7_11ea_bbe0_acde48001122level1_row1\" class=\"row_heading level1 row1\" >Fiery Glass Crusader</th>\n",
       "                        <td id=\"T_a14cc308_71f7_11ea_bbe0_acde48001122row1_col0\" class=\"data row1 col0\" >9</td>\n",
       "                        <td id=\"T_a14cc308_71f7_11ea_bbe0_acde48001122row1_col1\" class=\"data row1 col1\" >$4.58</td>\n",
       "                        <td id=\"T_a14cc308_71f7_11ea_bbe0_acde48001122row1_col2\" class=\"data row1 col2\" >$41.22</td>\n",
       "            </tr>\n",
       "            <tr>\n",
       "                        <th id=\"T_a14cc308_71f7_11ea_bbe0_acde48001122level0_row2\" class=\"row_heading level0 row2\" >108</th>\n",
       "                        <th id=\"T_a14cc308_71f7_11ea_bbe0_acde48001122level1_row2\" class=\"row_heading level1 row2\" >Extraction, Quickblade Of Trembling Hands</th>\n",
       "                        <td id=\"T_a14cc308_71f7_11ea_bbe0_acde48001122row2_col0\" class=\"data row2 col0\" >9</td>\n",
       "                        <td id=\"T_a14cc308_71f7_11ea_bbe0_acde48001122row2_col1\" class=\"data row2 col1\" >$3.53</td>\n",
       "                        <td id=\"T_a14cc308_71f7_11ea_bbe0_acde48001122row2_col2\" class=\"data row2 col2\" >$31.77</td>\n",
       "            </tr>\n",
       "            <tr>\n",
       "                        <th id=\"T_a14cc308_71f7_11ea_bbe0_acde48001122level0_row3\" class=\"row_heading level0 row3\" >82</th>\n",
       "                        <th id=\"T_a14cc308_71f7_11ea_bbe0_acde48001122level1_row3\" class=\"row_heading level1 row3\" >Nirvana</th>\n",
       "                        <td id=\"T_a14cc308_71f7_11ea_bbe0_acde48001122row3_col0\" class=\"data row3 col0\" >9</td>\n",
       "                        <td id=\"T_a14cc308_71f7_11ea_bbe0_acde48001122row3_col1\" class=\"data row3 col1\" >$4.90</td>\n",
       "                        <td id=\"T_a14cc308_71f7_11ea_bbe0_acde48001122row3_col2\" class=\"data row3 col2\" >$44.10</td>\n",
       "            </tr>\n",
       "            <tr>\n",
       "                        <th id=\"T_a14cc308_71f7_11ea_bbe0_acde48001122level0_row4\" class=\"row_heading level0 row4\" >19</th>\n",
       "                        <th id=\"T_a14cc308_71f7_11ea_bbe0_acde48001122level1_row4\" class=\"row_heading level1 row4\" >Pursuit, Cudgel of Necromancy</th>\n",
       "                        <td id=\"T_a14cc308_71f7_11ea_bbe0_acde48001122row4_col0\" class=\"data row4 col0\" >8</td>\n",
       "                        <td id=\"T_a14cc308_71f7_11ea_bbe0_acde48001122row4_col1\" class=\"data row4 col1\" >$1.02</td>\n",
       "                        <td id=\"T_a14cc308_71f7_11ea_bbe0_acde48001122row4_col2\" class=\"data row4 col2\" >$8.16</td>\n",
       "            </tr>\n",
       "    </tbody></table>"
      ],
      "text/plain": [
       "<pandas.io.formats.style.Styler at 0x121b5afd0>"
      ]
     },
     "execution_count": 34,
     "metadata": {},
     "output_type": "execute_result"
    }
   ],
   "source": [
    "most_pop_group = purchase_data.groupby(['Item ID','Item Name'])\n",
    "                           \n",
    "top_spender_analysis = pd.DataFrame({\"Purchase Count\": (most_pop_group[\"Purchase ID\"].count()),\n",
    "                                \"Item Price\": (most_pop_group[\"Price\"].mean()),\n",
    "                              \"Total Purchase Value\": (most_pop_group[\"Price\"].sum())})\n",
    "top_spender_analysis.sort_values([\"Purchase Count\"], ascending = False).head().style.format({\"Item Price\":\"${:,.2f}\", \"Total Purchase Value\":\"${:,.2f}\"})\n"
   ]
  },
  {
   "cell_type": "markdown",
   "metadata": {},
   "source": [
    "## Most Profitable Items"
   ]
  },
  {
   "cell_type": "markdown",
   "metadata": {},
   "source": [
    "* Sort the above table by total purchase value in descending order\n",
    "\n",
    "\n",
    "* Optional: give the displayed data cleaner formatting\n",
    "\n",
    "\n",
    "* Display a preview of the data frame\n",
    "\n"
   ]
  },
  {
   "cell_type": "code",
   "execution_count": 35,
   "metadata": {
    "scrolled": true
   },
   "outputs": [
    {
     "data": {
      "text/html": [
       "<style  type=\"text/css\" >\n",
       "</style><table id=\"T_a229b538_71f7_11ea_bbe0_acde48001122\" ><thead>    <tr>        <th class=\"blank\" ></th>        <th class=\"blank level0\" ></th>        <th class=\"col_heading level0 col0\" >Purchase Count</th>        <th class=\"col_heading level0 col1\" >Item Price</th>        <th class=\"col_heading level0 col2\" >Total Purchase Value</th>    </tr>    <tr>        <th class=\"index_name level0\" >Item ID</th>        <th class=\"index_name level1\" >Item Name</th>        <th class=\"blank\" ></th>        <th class=\"blank\" ></th>        <th class=\"blank\" ></th>    </tr></thead><tbody>\n",
       "                <tr>\n",
       "                        <th id=\"T_a229b538_71f7_11ea_bbe0_acde48001122level0_row0\" class=\"row_heading level0 row0\" >178</th>\n",
       "                        <th id=\"T_a229b538_71f7_11ea_bbe0_acde48001122level1_row0\" class=\"row_heading level1 row0\" >Oathbreaker, Last Hope of the Breaking Storm</th>\n",
       "                        <td id=\"T_a229b538_71f7_11ea_bbe0_acde48001122row0_col0\" class=\"data row0 col0\" >12</td>\n",
       "                        <td id=\"T_a229b538_71f7_11ea_bbe0_acde48001122row0_col1\" class=\"data row0 col1\" >$4.23</td>\n",
       "                        <td id=\"T_a229b538_71f7_11ea_bbe0_acde48001122row0_col2\" class=\"data row0 col2\" >$50.76</td>\n",
       "            </tr>\n",
       "            <tr>\n",
       "                        <th id=\"T_a229b538_71f7_11ea_bbe0_acde48001122level0_row1\" class=\"row_heading level0 row1\" >82</th>\n",
       "                        <th id=\"T_a229b538_71f7_11ea_bbe0_acde48001122level1_row1\" class=\"row_heading level1 row1\" >Nirvana</th>\n",
       "                        <td id=\"T_a229b538_71f7_11ea_bbe0_acde48001122row1_col0\" class=\"data row1 col0\" >9</td>\n",
       "                        <td id=\"T_a229b538_71f7_11ea_bbe0_acde48001122row1_col1\" class=\"data row1 col1\" >$4.90</td>\n",
       "                        <td id=\"T_a229b538_71f7_11ea_bbe0_acde48001122row1_col2\" class=\"data row1 col2\" >$44.10</td>\n",
       "            </tr>\n",
       "            <tr>\n",
       "                        <th id=\"T_a229b538_71f7_11ea_bbe0_acde48001122level0_row2\" class=\"row_heading level0 row2\" >145</th>\n",
       "                        <th id=\"T_a229b538_71f7_11ea_bbe0_acde48001122level1_row2\" class=\"row_heading level1 row2\" >Fiery Glass Crusader</th>\n",
       "                        <td id=\"T_a229b538_71f7_11ea_bbe0_acde48001122row2_col0\" class=\"data row2 col0\" >9</td>\n",
       "                        <td id=\"T_a229b538_71f7_11ea_bbe0_acde48001122row2_col1\" class=\"data row2 col1\" >$4.58</td>\n",
       "                        <td id=\"T_a229b538_71f7_11ea_bbe0_acde48001122row2_col2\" class=\"data row2 col2\" >$41.22</td>\n",
       "            </tr>\n",
       "            <tr>\n",
       "                        <th id=\"T_a229b538_71f7_11ea_bbe0_acde48001122level0_row3\" class=\"row_heading level0 row3\" >92</th>\n",
       "                        <th id=\"T_a229b538_71f7_11ea_bbe0_acde48001122level1_row3\" class=\"row_heading level1 row3\" >Final Critic</th>\n",
       "                        <td id=\"T_a229b538_71f7_11ea_bbe0_acde48001122row3_col0\" class=\"data row3 col0\" >8</td>\n",
       "                        <td id=\"T_a229b538_71f7_11ea_bbe0_acde48001122row3_col1\" class=\"data row3 col1\" >$4.88</td>\n",
       "                        <td id=\"T_a229b538_71f7_11ea_bbe0_acde48001122row3_col2\" class=\"data row3 col2\" >$39.04</td>\n",
       "            </tr>\n",
       "            <tr>\n",
       "                        <th id=\"T_a229b538_71f7_11ea_bbe0_acde48001122level0_row4\" class=\"row_heading level0 row4\" >103</th>\n",
       "                        <th id=\"T_a229b538_71f7_11ea_bbe0_acde48001122level1_row4\" class=\"row_heading level1 row4\" >Singed Scalpel</th>\n",
       "                        <td id=\"T_a229b538_71f7_11ea_bbe0_acde48001122row4_col0\" class=\"data row4 col0\" >8</td>\n",
       "                        <td id=\"T_a229b538_71f7_11ea_bbe0_acde48001122row4_col1\" class=\"data row4 col1\" >$4.35</td>\n",
       "                        <td id=\"T_a229b538_71f7_11ea_bbe0_acde48001122row4_col2\" class=\"data row4 col2\" >$34.80</td>\n",
       "            </tr>\n",
       "    </tbody></table>"
      ],
      "text/plain": [
       "<pandas.io.formats.style.Styler at 0x1105eb550>"
      ]
     },
     "execution_count": 35,
     "metadata": {},
     "output_type": "execute_result"
    }
   ],
   "source": [
    "top_spender_analysis.sort_values([\"Total Purchase Value\"], ascending = False).head().style.format({\"Item Price\":\"${:,.2f}\", \"Total Purchase Value\":\"${:,.2f}\"})\n"
   ]
  },
  {
   "cell_type": "code",
   "execution_count": null,
   "metadata": {},
   "outputs": [],
   "source": []
  }
 ],
 "metadata": {
  "anaconda-cloud": {},
  "kernel_info": {
   "name": "python3"
  },
  "kernelspec": {
   "display_name": "Python 3",
   "language": "python",
   "name": "python3"
  },
  "language_info": {
   "codemirror_mode": {
    "name": "ipython",
    "version": 3
   },
   "file_extension": ".py",
   "mimetype": "text/x-python",
   "name": "python",
   "nbconvert_exporter": "python",
   "pygments_lexer": "ipython3",
   "version": "3.7.7"
  },
  "latex_envs": {
   "LaTeX_envs_menu_present": true,
   "autoclose": false,
   "autocomplete": true,
   "bibliofile": "biblio.bib",
   "cite_by": "apalike",
   "current_citInitial": 1,
   "eqLabelWithNumbers": true,
   "eqNumInitial": 1,
   "hotkeys": {
    "equation": "Ctrl-E",
    "itemize": "Ctrl-I"
   },
   "labels_anchors": false,
   "latex_user_defs": false,
   "report_style_numbering": false,
   "user_envs_cfg": false
  },
  "nteract": {
   "version": "0.2.0"
  }
 },
 "nbformat": 4,
 "nbformat_minor": 2
}
